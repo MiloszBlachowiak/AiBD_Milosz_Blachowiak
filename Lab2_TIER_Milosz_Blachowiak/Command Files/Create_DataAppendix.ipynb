{
 "cells": [
  {
   "cell_type": "code",
   "execution_count": 9,
   "id": "849f851b",
   "metadata": {},
   "outputs": [
    {
     "name": "stdout",
     "output_type": "stream",
     "text": [
      "<class 'pandas.core.frame.DataFrame'>\n",
      "RangeIndex: 38709 entries, 0 to 38708\n",
      "Data columns (total 4 columns):\n",
      " #   Column    Non-Null Count  Dtype \n",
      "---  ------    --------------  ----- \n",
      " 0   ID        38709 non-null  object\n",
      " 1   Date      38709 non-null  object\n",
      " 2   Variable  38709 non-null  object\n",
      " 3   value     38709 non-null  int64 \n",
      "dtypes: int64(1), object(3)\n",
      "memory usage: 1.2+ MB\n"
     ]
    }
   ],
   "source": [
    "import pandas as pd\n",
    "\n",
    "# wczytanie danych z pliku 'weather_parsed.txt'\n",
    "weather = pd.read_csv('..\\Analysis Data\\weather_cleaned.csv')\n",
    "\n",
    "weather.info()"
   ]
  },
  {
   "cell_type": "code",
   "execution_count": 2,
   "id": "bb1cca11",
   "metadata": {},
   "outputs": [],
   "source": [
    "description_tmin = weather[weather['Variable'] == 'tmin'].describe()"
   ]
  },
  {
   "cell_type": "code",
   "execution_count": 3,
   "id": "a85dc4d6",
   "metadata": {},
   "outputs": [],
   "source": [
    "description_tmax = weather[weather['Variable'] == 'tmax'].describe()"
   ]
  },
  {
   "cell_type": "code",
   "execution_count": 4,
   "id": "b39c4261",
   "metadata": {},
   "outputs": [],
   "source": [
    "description_prcp = weather[weather['Variable'] == 'prcp'].describe()"
   ]
  },
  {
   "cell_type": "code",
   "execution_count": 5,
   "id": "2a80df73",
   "metadata": {},
   "outputs": [
    {
     "data": {
      "image/png": "[encoded data removed]",
      "text/plain": [
       "<Figure size 432x288 with 1 Axes>"
      ]
     },
     "metadata": {
      "needs_background": "light"
     },
     "output_type": "display_data"
    }
   ],
   "source": [
    "hist_tmin = weather[weather['Variable'] == 'tmin'].hist()"
   ]
  },
  {
   "cell_type": "code",
   "execution_count": 6,
   "id": "37c21c96",
   "metadata": {},
   "outputs": [
    {
     "data": {
      "image/png": "[encoded data removed]",
      "text/plain": [
       "<Figure size 432x288 with 1 Axes>"
      ]
     },
     "metadata": {
      "needs_background": "light"
     },
     "output_type": "display_data"
    }
   ],
   "source": [
    "hist_tmax = weather[weather['Variable'] == 'tmax'].hist()"
   ]
  },
  {
   "cell_type": "code",
   "execution_count": 7,
   "id": "8e0f884e",
   "metadata": {},
   "outputs": [
    {
     "data": {
      "image/png": "[encoded data removed]",
      "text/plain": [
       "<Figure size 432x288 with 1 Axes>"
      ]
     },
     "metadata": {
      "needs_background": "light"
     },
     "output_type": "display_data"
    }
   ],
   "source": [
    "hist_prcp = weather[weather['Variable'] == 'prcp'].hist()"
   ]
  },
  {
   "cell_type": "code",
   "execution_count": 25,
   "id": "1cafac1c",
   "metadata": {},
   "outputs": [],
   "source": [
    "with open('..\\Documents\\DataAppendix.txt', 'w') as f:\n",
    "    \n",
    "    f.write(\"Zmienne wykorzystywane w analizie:\\n\")\n",
    "    f.write(\"-ID - identyfikator stacji meteorologicznej,\\n\")\n",
    "    f.write(\"-Date - data pomiaru,\\n\")\n",
    "    f.write(\"-Variable - nazwa zmiennej pomiarowej:,\\n\")\n",
    "    f.write(\"    -tmin - temperatura minimalna,\\n\")\n",
    "    f.write(\"    -tmax - temperatura maksymalna,\\n\")\n",
    "    f.write(\"    -prcp - ilość opadów atmosferycznych,\\n\")\n",
    "    f.write(\"-value - wartość pomiaru,\\n\")\n",
    "    \n",
    "    \n",
    "    f.write(\"\\n\\nPodstawowe statystyki o danych:\\n\\n\")\n",
    "    f.write(\"Dla temperatury minimalnej:\\n\")\n",
    "    description_tmin.to_csv(f, sep=' ', mode='a')\n",
    "    \n",
    "    \n",
    "    f.write(\"\\n\\nDla temperatury maksymalnej:\\n\")\n",
    "    description_tmax.to_csv(f, sep=' ',  mode='a')\n",
    "    \n",
    "    f.write(\"\\n\\nDla opadów atmosferycznych:\\n\")\n",
    "    description_prcp.to_csv(f, sep=' ',  mode='a')\n",
    "    \n",
    "    f.close()"
   ]
  },
  {
   "cell_type": "code",
   "execution_count": 20,
   "id": "f1c9ed31",
   "metadata": {},
   "outputs": [
    {
     "data": {
      "text/html": [
       "<div>\n",
       "<style scoped>\n",
       "    .dataframe tbody tr th:only-of-type {\n",
       "        vertical-align: middle;\n",
       "    }\n",
       "\n",
       "    .dataframe tbody tr th {\n",
       "        vertical-align: top;\n",
       "    }\n",
       "\n",
       "    .dataframe thead th {\n",
       "        text-align: right;\n",
       "    }\n",
       "</style>\n",
       "<table border=\"1\" class=\"dataframe\">\n",
       "  <thead>\n",
       "    <tr style=\"text-align: right;\">\n",
       "      <th></th>\n",
       "      <th>ID</th>\n",
       "      <th>Date</th>\n",
       "      <th>Variable</th>\n",
       "      <th>value</th>\n",
       "    </tr>\n",
       "  </thead>\n",
       "  <tbody>\n",
       "    <tr>\n",
       "      <th>0</th>\n",
       "      <td>MX000017004</td>\n",
       "      <td>1955-04-01</td>\n",
       "      <td>tmax</td>\n",
       "      <td>310</td>\n",
       "    </tr>\n",
       "    <tr>\n",
       "      <th>1</th>\n",
       "      <td>MX000017004</td>\n",
       "      <td>1955-04-01</td>\n",
       "      <td>tmin</td>\n",
       "      <td>150</td>\n",
       "    </tr>\n",
       "    <tr>\n",
       "      <th>2</th>\n",
       "      <td>MX000017004</td>\n",
       "      <td>1955-04-01</td>\n",
       "      <td>prcp</td>\n",
       "      <td>0</td>\n",
       "    </tr>\n",
       "    <tr>\n",
       "      <th>3</th>\n",
       "      <td>MX000017004</td>\n",
       "      <td>1955-04-02</td>\n",
       "      <td>tmax</td>\n",
       "      <td>310</td>\n",
       "    </tr>\n",
       "    <tr>\n",
       "      <th>4</th>\n",
       "      <td>MX000017004</td>\n",
       "      <td>1955-04-02</td>\n",
       "      <td>tmin</td>\n",
       "      <td>200</td>\n",
       "    </tr>\n",
       "    <tr>\n",
       "      <th>...</th>\n",
       "      <td>...</td>\n",
       "      <td>...</td>\n",
       "      <td>...</td>\n",
       "      <td>...</td>\n",
       "    </tr>\n",
       "    <tr>\n",
       "      <th>38704</th>\n",
       "      <td>MX000017004</td>\n",
       "      <td>2011-04-02</td>\n",
       "      <td>prcp</td>\n",
       "      <td>0</td>\n",
       "    </tr>\n",
       "    <tr>\n",
       "      <th>38705</th>\n",
       "      <td>MX000017004</td>\n",
       "      <td>2011-04-02</td>\n",
       "      <td>prcp</td>\n",
       "      <td>0</td>\n",
       "    </tr>\n",
       "    <tr>\n",
       "      <th>38706</th>\n",
       "      <td>MX000017004</td>\n",
       "      <td>2011-04-02</td>\n",
       "      <td>tmax</td>\n",
       "      <td>365</td>\n",
       "    </tr>\n",
       "    <tr>\n",
       "      <th>38707</th>\n",
       "      <td>MX000017004</td>\n",
       "      <td>2011-04-05</td>\n",
       "      <td>tmin</td>\n",
       "      <td>170</td>\n",
       "    </tr>\n",
       "    <tr>\n",
       "      <th>38708</th>\n",
       "      <td>MX000017004</td>\n",
       "      <td>2011-04-06</td>\n",
       "      <td>prcp</td>\n",
       "      <td>0</td>\n",
       "    </tr>\n",
       "  </tbody>\n",
       "</table>\n",
       "<p>38709 rows × 4 columns</p>\n",
       "</div>"
      ],
      "text/plain": [
       "                ID        Date Variable  value\n",
       "0      MX000017004  1955-04-01     tmax    310\n",
       "1      MX000017004  1955-04-01     tmin    150\n",
       "2      MX000017004  1955-04-01     prcp      0\n",
       "3      MX000017004  1955-04-02     tmax    310\n",
       "4      MX000017004  1955-04-02     tmin    200\n",
       "...            ...         ...      ...    ...\n",
       "38704  MX000017004  2011-04-02     prcp      0\n",
       "38705  MX000017004  2011-04-02     prcp      0\n",
       "38706  MX000017004  2011-04-02     tmax    365\n",
       "38707  MX000017004  2011-04-05     tmin    170\n",
       "38708  MX000017004  2011-04-06     prcp      0\n",
       "\n",
       "[38709 rows x 4 columns]"
      ]
     },
     "execution_count": 20,
     "metadata": {},
     "output_type": "execute_result"
    }
   ],
   "source": [
    "weather"
   ]
  }
 ],
 "metadata": {
  "kernelspec": {
   "display_name": "miloszblachowiak",
   "language": "python",
   "name": "miloszblachowiak"
  },
  "language_info": {
   "codemirror_mode": {
    "name": "ipython",
    "version": 3
   },
   "file_extension": ".py",
   "mimetype": "text/x-python",
   "name": "python",
   "nbconvert_exporter": "python",
   "pygments_lexer": "ipython3",
   "version": "3.8.8"
  }
 },
 "nbformat": 4,
 "nbformat_minor": 5
}

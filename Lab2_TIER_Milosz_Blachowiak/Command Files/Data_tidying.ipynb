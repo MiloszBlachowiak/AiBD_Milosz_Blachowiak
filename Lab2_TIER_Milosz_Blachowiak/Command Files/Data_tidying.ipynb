{
 "cells": [
  {
   "cell_type": "markdown",
   "id": "d5ec32ef",
   "metadata": {},
   "source": [
    "Miłosz Błachowiak"
   ]
  },
  {
   "cell_type": "markdown",
   "id": "443f0a25",
   "metadata": {},
   "source": [
    "Porządkujemy dane zgodnie z protokołem TIER i zasadami 'tidy data'"
   ]
  },
  {
   "cell_type": "code",
   "execution_count": 1,
   "id": "79843b71",
   "metadata": {},
   "outputs": [],
   "source": [
    "import pandas as pd\n",
    "\n",
    "# wczytanie danych z pliku 'weather_parsed.txt'\n",
    "weather = pd.read_csv('..\\Analysis Data\\weather_parsed.txt',sep=';', header=None)"
   ]
  },
  {
   "cell_type": "code",
   "execution_count": 2,
   "id": "2ca0b1a8",
   "metadata": {},
   "outputs": [],
   "source": [
    "import pandas as pd\n",
    "\n",
    "# wczytanie danych z pliku 'weather_parsed.txt'\n",
    "weather = pd.read_csv('..\\Analysis Data\\weather_parsed.txt',sep=';', header=None)"
   ]
  },
  {
   "cell_type": "code",
   "execution_count": 3,
   "id": "624ea6e4",
   "metadata": {},
   "outputs": [],
   "source": [
    "# funkcja odpowiednio modyfikująca ciąg znaków, będzie użyta do rozdzielenia danych z pierwszej kolumny\n",
    "def col_split(string):\n",
    "    string = string[:11] + \"_\" + string[11:15] + \".\" + string[15:17] + \"_\" + string[17:]\n",
    "    return string"
   ]
  },
  {
   "cell_type": "code",
   "execution_count": 4,
   "id": "d8471dc9",
   "metadata": {},
   "outputs": [],
   "source": [
    "# wywołanie funkcji col_split dla całej pierwszej kolumny\n",
    "weather[0] = weather[0].apply(col_split)"
   ]
  },
  {
   "cell_type": "code",
   "execution_count": 5,
   "id": "843754a0",
   "metadata": {},
   "outputs": [],
   "source": [
    "# wstawienie nowych kolumn i rozdzielenie danych z pierwszej kolumny\n",
    "weather.insert(1, \"ID\", \"\")\n",
    "weather.insert(2, \"Year and Month\", \"\")\n",
    "weather.insert(3, \"Variable\", \"\")\n",
    "\n",
    "\n",
    "weather[['ID', 'Year and Month', 'Variable']] = weather[0].str.split('_', expand=True)"
   ]
  },
  {
   "cell_type": "code",
   "execution_count": 6,
   "id": "3888b4e1",
   "metadata": {},
   "outputs": [],
   "source": [
    "# usunięcie zbędnej kolumny\n",
    "weather = weather.drop(0, axis=1)"
   ]
  },
  {
   "cell_type": "code",
   "execution_count": 7,
   "id": "bd91cf8c",
   "metadata": {},
   "outputs": [],
   "source": [
    "# oczyszczenie i uporządkowanie danych\n",
    "weather.replace([-9999], '-', inplace=True)\n",
    "\n",
    "weather['Variable'] = weather['Variable'].str.lower()"
   ]
  },
  {
   "cell_type": "code",
   "execution_count": 8,
   "id": "abf38049",
   "metadata": {},
   "outputs": [],
   "source": [
    "# użycie funkcji melt - zamiana szerokiej tabeli na długą\n",
    "weather = pd.melt(weather, id_vars=[\"ID\", \"Year and Month\", \"Variable\"])"
   ]
  },
  {
   "cell_type": "code",
   "execution_count": 9,
   "id": "ff5175b9",
   "metadata": {},
   "outputs": [],
   "source": [
    "# połączenie kolumn \"Year and Month\"(rok i miesiąc) z kolumną \"variable\"(zawierającą dni miesiąca)\n",
    "weather.insert(2, \"Date\", \"\")\n",
    "weather[\"Date\"] = weather[\"Year and Month\"].astype(str) + \".\" +  weather[\"variable\"].astype(str)\n",
    "\n",
    "weather = weather.drop([\"Year and Month\", \"variable\"], axis=1)"
   ]
  },
  {
   "cell_type": "code",
   "execution_count": 10,
   "id": "7690327f",
   "metadata": {},
   "outputs": [],
   "source": [
    "# usunięcie wierszy nie posiadających danych pomiarowych\n",
    "weather = weather[weather[\"value\"] != '-']"
   ]
  },
  {
   "cell_type": "code",
   "execution_count": 11,
   "id": "c8a72532",
   "metadata": {},
   "outputs": [],
   "source": [
    "# konwersja kolumny \"Date\" do formatu datetime\n",
    "weather[\"Date\"] = pd.to_datetime(weather[\"Date\"])"
   ]
  },
  {
   "cell_type": "code",
   "execution_count": 12,
   "id": "ff482a8b",
   "metadata": {},
   "outputs": [],
   "source": [
    "# ustawienie indeksu dataframe'u na kolumnę \"ID\"\n",
    "weather = weather.set_index(\"ID\")"
   ]
  },
  {
   "cell_type": "code",
   "execution_count": 13,
   "id": "f0cc477d",
   "metadata": {},
   "outputs": [],
   "source": [
    "# posortowanie danych względem daty\n",
    "weather[\"Date\"] = weather[\"Date\"].sort_values()\n"
   ]
  },
  {
   "cell_type": "code",
   "execution_count": 14,
   "id": "05f9cae8",
   "metadata": {},
   "outputs": [
    {
     "data": {
      "text/html": [
       "<div>\n",
       "<style scoped>\n",
       "    .dataframe tbody tr th:only-of-type {\n",
       "        vertical-align: middle;\n",
       "    }\n",
       "\n",
       "    .dataframe tbody tr th {\n",
       "        vertical-align: top;\n",
       "    }\n",
       "\n",
       "    .dataframe thead th {\n",
       "        text-align: right;\n",
       "    }\n",
       "</style>\n",
       "<table border=\"1\" class=\"dataframe\">\n",
       "  <thead>\n",
       "    <tr style=\"text-align: right;\">\n",
       "      <th></th>\n",
       "      <th>Date</th>\n",
       "      <th>Variable</th>\n",
       "      <th>value</th>\n",
       "    </tr>\n",
       "    <tr>\n",
       "      <th>ID</th>\n",
       "      <th></th>\n",
       "      <th></th>\n",
       "      <th></th>\n",
       "    </tr>\n",
       "  </thead>\n",
       "  <tbody>\n",
       "    <tr>\n",
       "      <th>MX000017004</th>\n",
       "      <td>1955-04-01</td>\n",
       "      <td>tmax</td>\n",
       "      <td>310</td>\n",
       "    </tr>\n",
       "    <tr>\n",
       "      <th>MX000017004</th>\n",
       "      <td>1955-04-01</td>\n",
       "      <td>tmin</td>\n",
       "      <td>150</td>\n",
       "    </tr>\n",
       "    <tr>\n",
       "      <th>MX000017004</th>\n",
       "      <td>1955-04-01</td>\n",
       "      <td>prcp</td>\n",
       "      <td>0</td>\n",
       "    </tr>\n",
       "    <tr>\n",
       "      <th>MX000017004</th>\n",
       "      <td>1955-04-02</td>\n",
       "      <td>tmax</td>\n",
       "      <td>310</td>\n",
       "    </tr>\n",
       "    <tr>\n",
       "      <th>MX000017004</th>\n",
       "      <td>1955-04-02</td>\n",
       "      <td>tmin</td>\n",
       "      <td>200</td>\n",
       "    </tr>\n",
       "    <tr>\n",
       "      <th>...</th>\n",
       "      <td>...</td>\n",
       "      <td>...</td>\n",
       "      <td>...</td>\n",
       "    </tr>\n",
       "    <tr>\n",
       "      <th>MX000017004</th>\n",
       "      <td>2011-04-02</td>\n",
       "      <td>prcp</td>\n",
       "      <td>0</td>\n",
       "    </tr>\n",
       "    <tr>\n",
       "      <th>MX000017004</th>\n",
       "      <td>2011-04-02</td>\n",
       "      <td>prcp</td>\n",
       "      <td>0</td>\n",
       "    </tr>\n",
       "    <tr>\n",
       "      <th>MX000017004</th>\n",
       "      <td>2011-04-02</td>\n",
       "      <td>tmax</td>\n",
       "      <td>365</td>\n",
       "    </tr>\n",
       "    <tr>\n",
       "      <th>MX000017004</th>\n",
       "      <td>2011-04-05</td>\n",
       "      <td>tmin</td>\n",
       "      <td>170</td>\n",
       "    </tr>\n",
       "    <tr>\n",
       "      <th>MX000017004</th>\n",
       "      <td>2011-04-06</td>\n",
       "      <td>prcp</td>\n",
       "      <td>0</td>\n",
       "    </tr>\n",
       "  </tbody>\n",
       "</table>\n",
       "<p>38709 rows × 3 columns</p>\n",
       "</div>"
      ],
      "text/plain": [
       "                  Date Variable value\n",
       "ID                                   \n",
       "MX000017004 1955-04-01     tmax   310\n",
       "MX000017004 1955-04-01     tmin   150\n",
       "MX000017004 1955-04-01     prcp     0\n",
       "MX000017004 1955-04-02     tmax   310\n",
       "MX000017004 1955-04-02     tmin   200\n",
       "...                ...      ...   ...\n",
       "MX000017004 2011-04-02     prcp     0\n",
       "MX000017004 2011-04-02     prcp     0\n",
       "MX000017004 2011-04-02     tmax   365\n",
       "MX000017004 2011-04-05     tmin   170\n",
       "MX000017004 2011-04-06     prcp     0\n",
       "\n",
       "[38709 rows x 3 columns]"
      ]
     },
     "execution_count": 14,
     "metadata": {},
     "output_type": "execute_result"
    }
   ],
   "source": [
    "weather"
   ]
  },
  {
   "cell_type": "code",
   "execution_count": 15,
   "id": "4b5a7d02",
   "metadata": {},
   "outputs": [],
   "source": [
    "# wyeksportowanie uporządkowanych danych do pliku csv\n",
    "\n",
    "weather.to_csv('..\\Analysis Data\\weather_cleaned.csv')"
   ]
  }
 ],
 "metadata": {
  "kernelspec": {
   "display_name": "miloszblachowiak",
   "language": "python",
   "name": "miloszblachowiak"
  },
  "language_info": {
   "codemirror_mode": {
    "name": "ipython",
    "version": 3
   },
   "file_extension": ".py",
   "mimetype": "text/x-python",
   "name": "python",
   "nbconvert_exporter": "python",
   "pygments_lexer": "ipython3",
   "version": "3.8.8"
  }
 },
 "nbformat": 4,
 "nbformat_minor": 5
}

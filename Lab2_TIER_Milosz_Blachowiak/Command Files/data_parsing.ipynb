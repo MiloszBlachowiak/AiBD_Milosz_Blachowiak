{
 "cells": [
  {
   "cell_type": "markdown",
   "id": "7354dc6b",
   "metadata": {},
   "source": [
    "Miłosz Błachowiak"
   ]
  },
  {
   "cell_type": "markdown",
   "id": "b7b71cbd",
   "metadata": {},
   "source": [
    "Wczytujemy dane z pliku 'weather.txt' i odpowiednio je parsujemy (każda kolumna oddzielona jest średnikiem). Następnie zapisujemy te dane do nowego pliku o nazwie 'weather_parsed.txt'"
   ]
  },
  {
   "cell_type": "code",
   "execution_count": 1,
   "id": "e2f7b422",
   "metadata": {},
   "outputs": [],
   "source": [
    "import re\n",
    "\n",
    "\n",
    "with open('..\\Original Data\\weather.txt', 'r') as f:\n",
    "    lines = f.readlines()\n",
    "    \n",
    "    for i in range(len(lines)):\n",
    "        lines[i]= lines[i].replace('TMIN', 'TMIN, ')\n",
    "        lines[i] = lines[i].replace('TMAX', 'TMAX, ')\n",
    "        lines[i] = lines[i].replace('PRCP', 'PRCP, ')\n",
    "        \n",
    "        lines[i] = lines[i][:21] + re.sub(\"[^0-9-]\", \" \", lines[i][21:])\n",
    "        lines[i] = re.sub(\" +\", \";\", lines[i])\n",
    "        lines[i] = lines[i][:-1]\n",
    "\n",
    "\n",
    "    f.close()\n",
    "\n",
    "\n",
    "with open('..\\Analysis Data\\weather_parsed.txt', \"w\") as f:\n",
    "    \n",
    "\n",
    "    for line in lines:\n",
    "        f.write(line)\n",
    "        f.write('\\n')\n",
    "    \n",
    "    f.close()\n",
    "    "
   ]
  }
 ],
 "metadata": {
  "kernelspec": {
   "display_name": "miloszblachowiak",
   "language": "python",
   "name": "miloszblachowiak"
  },
  "language_info": {
   "codemirror_mode": {
    "name": "ipython",
    "version": 3
   },
   "file_extension": ".py",
   "mimetype": "text/x-python",
   "name": "python",
   "nbconvert_exporter": "python",
   "pygments_lexer": "ipython3",
   "version": "3.8.8"
  }
 },
 "nbformat": 4,
 "nbformat_minor": 5
}
